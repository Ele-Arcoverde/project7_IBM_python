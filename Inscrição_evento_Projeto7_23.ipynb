{
  "nbformat": 4,
  "nbformat_minor": 0,
  "metadata": {
    "colab": {
      "provenance": [],
      "mount_file_id": "1c8ZBPu1IXRXsMYpIjo-CmaOpJKytF3-j",
      "authorship_tag": "ABX9TyNzOvbtQ/vIO+c23sPmvR1e",
      "include_colab_link": true
    },
    "kernelspec": {
      "name": "python3",
      "display_name": "Python 3"
    },
    "language_info": {
      "name": "python"
    }
  },
  "cells": [
    {
      "cell_type": "markdown",
      "metadata": {
        "id": "view-in-github",
        "colab_type": "text"
      },
      "source": [
        "<a href=\"https://colab.research.google.com/github/Ele-Arcoverde/project7_IBM_python/blob/main/Inscri%C3%A7%C3%A3o_evento_Projeto7_23.ipynb\" target=\"_parent\"><img src=\"https://colab.research.google.com/assets/colab-badge.svg\" alt=\"Open In Colab\"/></a>"
      ]
    },
    {
      "cell_type": "code",
      "source": [
        "# @title Projeto Final do Módulo II: Projeto 7 - Inscrição para Evento\n",
        "#Você pode enviar seu código para o PythonAnywhere usando um repositório Git ou copiando e colando os arquivos manualmente. Para copiar e colar, você pode usar o editor embutido do PythonAnywhere.\n",
        "\n",
        "print(\"\\nParticipe do Segundo Encontro:'Educação e Meio Ambiente'.\\nDia 28/11/2023 às 20:00 h\\nAuditório Raízes.\\nR.João Ribeiro,666 - Bairro da Penha\\nCidade de São Paulo - SP.\\n-Vagas limitadas(50).\\nEvento restrito ao público maior de 18 anos e residente na cidade de São Paulo, necessário comprovação.\\n\")\n",
        "print(\"INSCREVA-SE ABAIXO:\\n\")\n",
        "\n",
        "# Inicialização das variáveis\n",
        "vagas = 2\n",
        "participantes = []  # Lista vazia para armazenar os participantes\n",
        "\n",
        "# Loop para preencher as vagas\n",
        "while len(participantes) < vagas:\n",
        "    print(f\"Vagas : {vagas - len(participantes)}\")\n",
        "\n",
        "    # Captura de dados do participante\n",
        "    nome = input(\"Qual é o seu nome?: \")\n",
        "    idade = int(input(\"Qual é sua idade?: \"))\n",
        "    local_sp = input(\"Você reside na cidade de São Paulo? (sim/não): \")\n",
        "    periodo = input(\"O evento será à noite, você confirma? (sim/não): \")\n",
        "\n",
        "     # Feedback para inscritos:informa motivo da rejeição.\n",
        "    motivo_rejeicao = []  # Lista para armazenar os motivos de rejeição\n",
        "    if idade < 18:\n",
        "        motivo_rejeicao.append(\"\\nVocê não tem a idade mínima de 18 anos para participar deste encontro.\\nAguardamos você num futuro próximo, siga nossas redes.\")\n",
        "    if local_sp != \"sim\":\n",
        "        motivo_rejeicao.append(\"\\nA participação é restrita aos moradores de São Paulo.\\nAcompanhe nossa página, o próximo evento poderá ser na sua cidade.\")\n",
        "    if periodo != \"sim\":\n",
        "        motivo_rejeicao.append(\"\\nO evento ocorre apenas à noite.\\nQue pena!!!Não desanime, continue visitando nossa página.\")\n",
        "\n",
        "    # Validação: Se todas as condições forem atendidas, o inscrito é adicionado à lista de participantes e a inscrição é validada\n",
        "    if not motivo_rejeicao:\n",
        "        participantes.append({\"Nome\": nome, \"Idade\": idade, \"Reside em SP\": local_sp, \"Período da Noite\": periodo})\n",
        "        print(\"\\nInscrição validada!\\nRetire seu convite com antecedência na bilheteria do auditório.\\nTraga comprovante de endereço e um documento de identificação.\")\n",
        "    else:\n",
        "        # Caso contrário: exibe os motivos de rejeição\n",
        "        print(\"\\nDesculpe, não será desta vez:\")\n",
        "        for motivo in motivo_rejeicao:\n",
        "            print(motivo)\n",
        "\n",
        "    # Fazer outra inscrição ou parar\n",
        "    mais_inscricoes = input(\"\\nDeseja fazer outra inscrição (sim/não): \")\n",
        "    if mais_inscricoes == \"não\":\n",
        "        print(\"\\nAté breve, obrigado!\")\n",
        "        break\n",
        "\n",
        "# Verifica se todas as vagas foram preenchidas\n",
        "if len(participantes) >= vagas:\n",
        "    print(\"\\nInscrições encerradas.\\nTodas as vagas foram preenchidas.\")\n",
        "\n",
        "# Lista de participantes\n",
        "if len(participantes) > 0:\n",
        "    print(\"\\nLista de participantes:\")\n",
        "    # Exibe numero de ordenação crescente (1 a 50),nome do participante e idade\n",
        "    for index, participante in enumerate(participantes, start=1):\n",
        "        print(f\"{index}. {participante['Nome']}, {participante['Idade']} anos\")\n",
        "else:\n",
        "    # Caso: Nenhum inscrito, exibe mensagem.\n",
        "    print(\"\\nNenhum participante inscrito.\")"
      ],
      "metadata": {
        "cellView": "form",
        "id": "yjrxu58rfNUy"
      },
      "execution_count": null,
      "outputs": []
    },
    {
      "cell_type": "code",
      "source": [
        "from google.colab import drive\n",
        "drive.mount('/content/drive')"
      ],
      "metadata": {
        "colab": {
          "base_uri": "https://localhost:8080/"
        },
        "id": "pCHnOls9kxKB",
        "outputId": "b9fdf938-9daa-49b3-9151-7f6ec142af16"
      },
      "execution_count": null,
      "outputs": [
        {
          "output_type": "stream",
          "name": "stdout",
          "text": [
            "Drive already mounted at /content/drive; to attempt to forcibly remount, call drive.mount(\"/content/drive\", force_remount=True).\n"
          ]
        }
      ]
    },
    {
      "cell_type": "markdown",
      "source": [
        "Readme.md\n",
        "\n",
        "Link de acesso a pasta do projeto 7: https://drive.google.com/drive/folders/1ASGc1wT-94qwvc27JtY-cRQ10sz_FwTp?usp=sharing\n",
        "\n",
        "Link do vídeo:\n"
      ],
      "metadata": {
        "id": "gy9_nTPqm7NI"
      }
    }
  ]
}