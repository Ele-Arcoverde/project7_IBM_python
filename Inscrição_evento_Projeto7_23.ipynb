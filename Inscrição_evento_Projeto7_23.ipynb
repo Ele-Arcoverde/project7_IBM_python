{
  "nbformat": 4,
  "nbformat_minor": 0,
  "metadata": {
    "colab": {
      "provenance": [],
      "mount_file_id": "1c8ZBPu1IXRXsMYpIjo-CmaOpJKytF3-j",
      "authorship_tag": "ABX9TyNzOvbtQ/vIO+c23sPmvR1e",
      "include_colab_link": true
    },
    "kernelspec": {
      "name": "python3",
      "display_name": "Python 3"
    },
    "language_info": {
      "name": "python"
    }
  },
  "cells": [
    {
      "cell_type": "markdown",
      "metadata": {
        "id": "view-in-github",
        "colab_type": "text"
      },
      "source": [
        "<a href=\"https://colab.research.google.com/github/Ele-Arcoverde/project7_IBM_python/blob/main/Inscri%C3%A7%C3%A3o_evento_Projeto7_23.ipynb\" target=\"_parent\"><img src=\"https://colab.research.google.com/assets/colab-badge.svg\" alt=\"Open In Colab\"/></a>"
      ]
    },
    {
      "cell_type": "code",
      "source": [
        # @title Projeto Final do Módulo II: Projeto 7: Sistema de Inscrição para Evento com Condições de Participação

print("\nParticipe do Segundo Encontro:'Educação e Meio Ambiente'.\nDia 28/11/2023 às 20:00 h\nAuditório Raízes.\nR.João Ribeiro,666 - Bairro da Penha\nCidade de São Paulo - SP.\n-Vagas limitadas(50).\nEvento restrito ao público maior de 18 anos e residente no estado de São Paulo, necessário comprovação.\n")
print("INSCREVA-SE ABAIXO:\n")

# Inicialização das variáveis
vagas = 50
participantes = []  # Lista vazia para armazenar os participantes

# Loop para preencher as vagas
while len(participantes) < vagas:
    print(f"Vagas : {vagas - len(participantes)}")

    # Captura de dados do participante
    nome = input("Qual é o seu nome?: ")
    idade = int(input("Qual é sua idade?: "))
    local_sp = input("Você reside no Estado de São Paulo? (sim/não): ")
    periodo = input("Você confirma disponibilidade para o periodo noturno? (sim/não): ")

     # Feedback para inscritos:informa motivo da rejeição.
    motivo_rejeicao = []  # Lista para armazenar os motivos de rejeição
    if idade < 18:
        motivo_rejeicao.append("\nVocê não tem a idade mínima de 18 anos para participar deste encontro.\nAguardamos você num futuro próximo, siga nossas redes.")
    if local_sp != "sim":
        motivo_rejeicao.append("\nA participação é restrita aos moradores do Estado de São Paulo.\nAcompanhe nossa página, o próximo evento poderá ser no seu Estado.")
    if periodo != "sim":
        motivo_rejeicao.append("\nO evento ocorre apenas à noite.\nQue pena!!!Não desanime, continue visitando nossa página.")

    # Validação: Se todas as condições forem atendidas, o inscrito é adicionado à lista de participantes e a inscrição é validada
    if not motivo_rejeicao:
        participantes.append({"Nome": nome, "Idade": idade, "Reside em SP": local_sp, "Período da Noite": periodo})
        print("\nInscrição validada!\nRetire seu convite com antecedência na bilheteria do auditório.\nTraga comprovante de endereço e um documento de identificação.")
    else:
        # Caso contrário: exibe os motivos de rejeição
        print("\nDesculpe, não será desta vez:")
        for motivo in motivo_rejeicao:
            print(motivo)

    # Fazer outra inscrição ou parar
    mais_inscricoes = input("\nDeseja fazer outra inscrição (sim/não): ")
    if mais_inscricoes == "não":
        print("\nAté breve, obrigado!")
        break

# Verifica se todas as vagas foram preenchidas
if len(participantes) >= vagas:
    print("\nInscrições encerradas.\nTodas as vagas foram preenchidas.")

# Lista de participantes
if len(participantes) > 0:
    print("\nLista de participantes:")
    # Exibe numero de ordenação crescente (1 a 50),nome do participante e idade
    for index, participante in enumerate(participantes, start=1):
        print(f"{index}. {participante['Nome']}, {participante['Idade']} anos")
else:
    # Caso: Nenhum inscrito, exibe mensagem.
    print("\nNenhum participante inscrito.")
      ],
      "metadata": {
        "cellView": "form",
        "id": "yjrxu58rfNUy"
      },
      "execution_count": null,
      "outputs": []
    },
    {
      "cell_type": "code",
      "source": [
        "from google.colab import drive\n",
        "drive.mount('/content/drive')"
      ],
      "metadata": {
        "colab": {
          "base_uri": "https://localhost:8080/"
        },
        "id": "pCHnOls9kxKB",
        "outputId": "b9fdf938-9daa-49b3-9151-7f6ec142af16"
      },
      "execution_count": null,
      "outputs": [
        {
          "output_type": "stream",
          "name": "stdout",
          "text": [
            "Drive already mounted at /content/drive; to attempt to forcibly remount, call drive.mount(\"/content/drive\", force_remount=True).\n"
          ]
        }
      ]
    },
    {
      "cell_type": "markdown",
      "source": [
        "Readme.md\n",
        "\n",
        "Link de acesso a pasta do projeto 7: https://drive.google.com/drive/folders/1ASGc1wT-94qwvc27JtY-cRQ10sz_FwTp?usp=sharing\n",
        "\n",
        "Link do vídeo:\n"
      ],
      "metadata": {
        "id": "gy9_nTPqm7NI"
      }
    }
  ]
}
